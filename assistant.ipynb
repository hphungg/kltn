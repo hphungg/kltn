{
 "cells": [
  {
   "cell_type": "code",
   "execution_count": 11,
   "metadata": {},
   "outputs": [],
   "source": [
    "from openai import OpenAI \n",
    "import tiktoken \n",
    "from dotenv import load_dotenv \n",
    "import os"
   ]
  },
  {
   "cell_type": "code",
   "execution_count": 7,
   "metadata": {},
   "outputs": [],
   "source": [
    "load_dotenv('.env.local')\n",
    "\n",
    "API_KEY = os.getenv('API_KEY')\n",
    "MAX_TOKENS = 128000"
   ]
  },
  {
   "cell_type": "code",
   "execution_count": 8,
   "metadata": {},
   "outputs": [],
   "source": [
    "\n",
    "class Assistant:\n",
    "  def __init__(self):\n",
    "    self.client = OpenAI(api_key=API_KEY)\n",
    "    self.history = [{\"role\": \"system\", \"content\": \"You are a helpful assistant\"}]\n",
    "    self.tokenizer = tiktoken.encoding_for_model(\"gpt-4o\")\n",
    "\n",
    "  def count_tokens(self, messages):\n",
    "    return sum(len(self.tokenizer.encode(m[\"content\"])) for m in messages)\n",
    "\n",
    "  def generateResponse(self, prompt: str) -> str:\n",
    "    self.history.append({\"role\": \"user\", \"content\": prompt})\n",
    "\n",
    "    while self.count_tokens(self.history) > MAX_TOKENS:\n",
    "      self.history.pop(1)\n",
    "\n",
    "    completion = self.client.chat.completions.create (\n",
    "      model=\"gpt-4o\",\n",
    "      messages=self.history\n",
    "    )\n",
    "\n",
    "    response = completion.choices[0].message.content\n",
    "    self.history.append({\"role\": \"assistant\", \"content\": response})\n",
    "\n",
    "    return response\n",
    "\n",
    "  def getHistoty(self) -> list:\n",
    "    return self.history"
   ]
  },
  {
   "cell_type": "code",
   "execution_count": 9,
   "metadata": {},
   "outputs": [
    {
     "name": "stdout",
     "output_type": "stream",
     "text": [
      "Certainly! Below is a C++ function to compute the \\( n \\)-th Fibonacci number using both an iterative approach for efficiency and a recursive approach for simplicity:\n",
      "\n",
      "### Iterative Approach\n",
      "\n",
      "The iterative approach is efficient in terms of both time and space complexity, as it uses constant space and computes the Fibonacci number in linear time.\n",
      "\n",
      "```cpp\n",
      "#include <iostream>\n",
      "\n",
      "unsigned long long fibonacciIterative(int n) {\n",
      "    if (n <= 0) return 0;\n",
      "    if (n == 1) return 1;\n",
      "\n",
      "    unsigned long long a = 0, b = 1, fib = 0;\n",
      "    for (int i = 2; i <= n; ++i) {\n",
      "        fib = a + b;\n",
      "        a = b;\n",
      "        b = fib;\n",
      "    }\n",
      "    return fib;\n",
      "}\n",
      "\n",
      "int main() {\n",
      "    int n;\n",
      "    std::cout << \"Enter the position of Fibonacci number you want: \";\n",
      "    std::cin >> n;\n",
      "    std::cout << \"Fibonacci number is: \" << fibonacciIterative(n) << std::endl;\n",
      "    return 0;\n",
      "}\n",
      "```\n",
      "\n",
      "### Recursive Approach\n",
      "\n",
      "The recursive approach is simple, but it is less efficient due to repeated calculations. It has exponential time complexity and can lead to a stack overflow for large \\( n \\).\n",
      "\n",
      "```cpp\n",
      "#include <iostream>\n",
      "\n",
      "unsigned long long fibonacciRecursive(int n) {\n",
      "    if (n <= 0) return 0;\n",
      "    if (n == 1) return 1;\n",
      "    return fibonacciRecursive(n - 1) + fibonacciRecursive(n - 2);\n",
      "}\n",
      "\n",
      "int main() {\n",
      "    int n;\n",
      "    std::cout << \"Enter the position of Fibonacci number you want: \";\n",
      "    std::cin >> n;\n",
      "    std::cout << \"Fibonacci number is: \" << fibonacciRecursive(n) << std::endl;\n",
      "    return 0;\n",
      "}\n",
      "```\n",
      "\n",
      "### Notes:\n",
      "\n",
      "- **Iterative Approach** is recommended for computing Fibonacci numbers due to its efficiency.\n",
      "- The **Recursive Approach** can be improved using memoization or dynamic programming to avoid recalculating the same values.\n",
      "- The example programs calculate Fibonacci numbers starting from position 0, where `fibonacci(0) = 0` and `fibonacci(1) = 1`.\n",
      "\n",
      "Choose the iterative version for better performance, especially for larger values of \\( n \\).\n"
     ]
    }
   ],
   "source": [
    "assistant = Assistant()\n",
    "\n",
    "response = assistant.generateResponse(\"Write a C++ function to find fibonaci number?\")\n",
    "print(response)"
   ]
  },
  {
   "cell_type": "code",
   "execution_count": 10,
   "metadata": {},
   "outputs": [
    {
     "name": "stdout",
     "output_type": "stream",
     "text": [
      "Certainly! Here is the iterative approach to finding the \\( n \\)-th Fibonacci number in Python:\n",
      "\n",
      "```python\n",
      "def fibonacci_iterative(n):\n",
      "    if n <= 0:\n",
      "        return 0\n",
      "    elif n == 1:\n",
      "        return 1\n",
      "\n",
      "    a, b = 0, 1\n",
      "    for _ in range(2, n + 1):\n",
      "        a, b = b, a + b\n",
      "\n",
      "    return b\n",
      "```\n",
      "[{'role': 'system', 'content': 'You are a helpful assistant'}, {'role': 'user', 'content': 'Write a C++ function to find fibonaci number?'}, {'role': 'assistant', 'content': 'Certainly! Below is a C++ function to compute the \\\\( n \\\\)-th Fibonacci number using both an iterative approach for efficiency and a recursive approach for simplicity:\\n\\n### Iterative Approach\\n\\nThe iterative approach is efficient in terms of both time and space complexity, as it uses constant space and computes the Fibonacci number in linear time.\\n\\n```cpp\\n#include <iostream>\\n\\nunsigned long long fibonacciIterative(int n) {\\n    if (n <= 0) return 0;\\n    if (n == 1) return 1;\\n\\n    unsigned long long a = 0, b = 1, fib = 0;\\n    for (int i = 2; i <= n; ++i) {\\n        fib = a + b;\\n        a = b;\\n        b = fib;\\n    }\\n    return fib;\\n}\\n\\nint main() {\\n    int n;\\n    std::cout << \"Enter the position of Fibonacci number you want: \";\\n    std::cin >> n;\\n    std::cout << \"Fibonacci number is: \" << fibonacciIterative(n) << std::endl;\\n    return 0;\\n}\\n```\\n\\n### Recursive Approach\\n\\nThe recursive approach is simple, but it is less efficient due to repeated calculations. It has exponential time complexity and can lead to a stack overflow for large \\\\( n \\\\).\\n\\n```cpp\\n#include <iostream>\\n\\nunsigned long long fibonacciRecursive(int n) {\\n    if (n <= 0) return 0;\\n    if (n == 1) return 1;\\n    return fibonacciRecursive(n - 1) + fibonacciRecursive(n - 2);\\n}\\n\\nint main() {\\n    int n;\\n    std::cout << \"Enter the position of Fibonacci number you want: \";\\n    std::cin >> n;\\n    std::cout << \"Fibonacci number is: \" << fibonacciRecursive(n) << std::endl;\\n    return 0;\\n}\\n```\\n\\n### Notes:\\n\\n- **Iterative Approach** is recommended for computing Fibonacci numbers due to its efficiency.\\n- The **Recursive Approach** can be improved using memoization or dynamic programming to avoid recalculating the same values.\\n- The example programs calculate Fibonacci numbers starting from position 0, where `fibonacci(0) = 0` and `fibonacci(1) = 1`.\\n\\nChoose the iterative version for better performance, especially for larger values of \\\\( n \\\\).'}, {'role': 'user', 'content': 'Show me the iterative approach in python, only the code please'}, {'role': 'assistant', 'content': 'Certainly! Here is the iterative approach to finding the \\\\( n \\\\)-th Fibonacci number in Python:\\n\\n```python\\ndef fibonacci_iterative(n):\\n    if n <= 0:\\n        return 0\\n    elif n == 1:\\n        return 1\\n\\n    a, b = 0, 1\\n    for _ in range(2, n + 1):\\n        a, b = b, a + b\\n\\n    return b\\n```'}]\n"
     ]
    }
   ],
   "source": [
    "response = assistant.generateResponse(\"Show me the iterative approach in python, only the code please\")\n",
    "print(response)\n",
    "\n",
    "print(assistant.getHistoty())"
   ]
  }
 ],
 "metadata": {
  "kernelspec": {
   "display_name": "base",
   "language": "python",
   "name": "python3"
  },
  "language_info": {
   "codemirror_mode": {
    "name": "ipython",
    "version": 3
   },
   "file_extension": ".py",
   "mimetype": "text/x-python",
   "name": "python",
   "nbconvert_exporter": "python",
   "pygments_lexer": "ipython3",
   "version": "3.12.3"
  }
 },
 "nbformat": 4,
 "nbformat_minor": 2
}
